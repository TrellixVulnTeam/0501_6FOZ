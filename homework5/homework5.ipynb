{
 "cells": [
  {
   "cell_type": "code",
   "execution_count": 2,
   "metadata": {},
   "outputs": [
    {
     "name": "stdout",
     "output_type": "stream",
     "text": [
      "輸入一個數:1\n",
      "輸入運算符號(+-*/):*\n",
      "輸入一個數:5\n",
      "5\n"
     ]
    }
   ],
   "source": [
    "n1 = int(input(\"輸入一個數:\"))\n",
    "o = input(\"輸入運算符號(+-*/):\")\n",
    "n2 = int(input(\"輸入一個數:\"))\n",
    "\n",
    "def cal(n1,o,n2):\n",
    "    if o == \"+\":\n",
    "        ans = n1+n2\n",
    "        return ans\n",
    "    if o == \"-\":\n",
    "        ans = n1-n2\n",
    "        return ans\n",
    "    if o == \"*\":\n",
    "        ans = n1*n2\n",
    "        return ans\n",
    "    if o == \"/\":\n",
    "        ans = n1/n2\n",
    "        return ans\n",
    "    \n",
    "print(cal(n1,o,n2))\n",
    "        "
   ]
  }
 ],
 "metadata": {
  "kernelspec": {
   "display_name": "Python 3",
   "language": "python",
   "name": "python3"
  },
  "language_info": {
   "codemirror_mode": {
    "name": "ipython",
    "version": 3
   },
   "file_extension": ".py",
   "mimetype": "text/x-python",
   "name": "python",
   "nbconvert_exporter": "python",
   "pygments_lexer": "ipython3",
   "version": "3.7.3"
  }
 },
 "nbformat": 4,
 "nbformat_minor": 2
}
